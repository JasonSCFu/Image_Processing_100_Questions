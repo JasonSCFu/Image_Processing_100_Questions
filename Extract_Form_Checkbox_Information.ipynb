{
  "nbformat": 4,
  "nbformat_minor": 0,
  "metadata": {
    "colab": {
      "name": "Extract Form Checkbox Information.ipynb",
      "provenance": [],
      "mount_file_id": "1SNgzPMvWlvV0takTAMlbEi8yh53D3MLk",
      "authorship_tag": "ABX9TyM+YpbfFRmoX34Li8/cLTRA",
      "include_colab_link": true
    },
    "kernelspec": {
      "name": "python3",
      "display_name": "Python 3"
    },
    "language_info": {
      "name": "python"
    }
  },
  "cells": [
    {
      "cell_type": "markdown",
      "metadata": {
        "id": "view-in-github",
        "colab_type": "text"
      },
      "source": [
        "<a href=\"https://colab.research.google.com/github/JasonSCFu/Image_Processing_100_Questions/blob/master/Extract_Form_Checkbox_Information.ipynb\" target=\"_parent\"><img src=\"https://colab.research.google.com/assets/colab-badge.svg\" alt=\"Open In Colab\"/></a>"
      ]
    },
    {
      "cell_type": "markdown",
      "source": [
        "## This simple notebook is to illustrate how to use opencv to detect checkboxes in forms which are commonly seen in a lot of use cases."
      ],
      "metadata": {
        "id": "3TFLVg56U0ci"
      }
    },
    {
      "cell_type": "markdown",
      "source": [
        "#### Step One: Importing necessary libraries and reading the image"
      ],
      "metadata": {
        "id": "QO3Ww-s3JiXB"
      }
    },
    {
      "cell_type": "code",
      "execution_count": null,
      "metadata": {
        "colab": {
          "base_uri": "https://localhost:8080/"
        },
        "id": "9gYaK3jRIpqp",
        "outputId": "ed4b962b-203f-469a-f5f1-f74228ae5b65"
      },
      "outputs": [
        {
          "output_type": "stream",
          "name": "stdout",
          "text": [
            "Looking in indexes: https://pypi.org/simple, https://us-python.pkg.dev/colab-wheels/public/simple/\n",
            "Requirement already satisfied: opencv-python in /usr/local/lib/python3.7/dist-packages (4.6.0.66)\n",
            "Requirement already satisfied: numpy in /usr/local/lib/python3.7/dist-packages (1.21.6)\n"
          ]
        }
      ],
      "source": [
        "# install opencv and numpy\n",
        "!pip3 install opencv-python numpy\n",
        "\n",
        "# import libraries\n",
        "import os\n",
        "import cv2\n",
        "import numpy as np"
      ]
    },
    {
      "cell_type": "code",
      "source": [
        "# read image into array\n",
        "image_array = cv2.imread('/content/drive/MyDrive/checkbox.png')\n",
        "\n",
        "# check array type\n",
        "type(image_array)"
      ],
      "metadata": {
        "colab": {
          "base_uri": "https://localhost:8080/"
        },
        "id": "R1kA0IAyJSd9",
        "outputId": "4da1c3be-cc63-4a92-a4bd-4ad381ab737d"
      },
      "execution_count": null,
      "outputs": [
        {
          "output_type": "execute_result",
          "data": {
            "text/plain": [
              "numpy.ndarray"
            ]
          },
          "metadata": {},
          "execution_count": 2
        }
      ]
    },
    {
      "cell_type": "code",
      "source": [
        "raw = Image.fromarray(image_array)\n",
        "display(raw)"
      ],
      "metadata": {
        "colab": {
          "base_uri": "https://localhost:8080/",
          "height": 482
        },
        "id": "9Kxp9LIHN6tm",
        "outputId": "dde8ebeb-6aa8-4e92-a29a-e6300dec62d9"
      },
      "execution_count": 12,
      "outputs": [
        {
          "output_type": "display_data",
          "data": {
            "text/plain": [
              "<PIL.Image.Image image mode=RGB size=860x465 at 0x7EFC0DD474D0>"
            ],
            "image/png": "[encoded data removed]"
          },
          "metadata": {}
        }
      ]
    },
    {
      "cell_type": "markdown",
      "source": [
        "#### Step Two: Image binarization - Gray Scale\n",
        "\n",
        "The image we are using might have lots of noise, skew, and unnecessary information. Let’s convert this 3-channel image (RGB- red, blue, green) into a 2-channel image (grayscale) to make our detection more accurate. This also helps reduce the noise and uneasy information but can also help increase the performance when working with large images. Additionally, we can apply the binary thresholding technique to reduce the complexity of the image / further increase the contrast of the image. This process is sometimes described as separating an image into foreground values (black) and background values (white)."
      ],
      "metadata": {
        "id": "_9ZrBEwMLzTy"
      }
    },
    {
      "cell_type": "code",
      "source": [
        "# convering image to gray scale\n",
        "gray_scale_image = cv2.cvtColor(image_array, cv2.COLOR_BGR2GRAY)\n",
        "\n",
        "# image thresholding\n",
        "\n",
        "_, img_bin = cv2.threshold(gray_scale_image, 0, 255, cv2.THRESH_BINARY | cv2.THRESH_OTSU)\n",
        "\n",
        "img_bin = 255 - img_bin"
      ],
      "metadata": {
        "id": "YxjiRz4SJdBa"
      },
      "execution_count": null,
      "outputs": []
    },
    {
      "cell_type": "code",
      "source": [
        "img_bin"
      ],
      "metadata": {
        "colab": {
          "base_uri": "https://localhost:8080/"
        },
        "id": "cQv5TkImL2hP",
        "outputId": "7392a0b4-f79f-4a85-c681-f95781892925"
      },
      "execution_count": null,
      "outputs": [
        {
          "output_type": "execute_result",
          "data": {
            "text/plain": [
              "array([[0, 0, 0, ..., 0, 0, 0],\n",
              "       [0, 0, 0, ..., 0, 0, 0],\n",
              "       [0, 0, 0, ..., 0, 0, 0],\n",
              "       ...,\n",
              "       [0, 0, 0, ..., 0, 0, 0],\n",
              "       [0, 0, 0, ..., 0, 0, 0],\n",
              "       [0, 0, 0, ..., 0, 0, 0]], dtype=uint8)"
            ]
          },
          "metadata": {},
          "execution_count": 7
        }
      ]
    },
    {
      "cell_type": "code",
      "source": [
        "from PIL import Image\n",
        "from numpy import *\n",
        "from google.colab.patches import cv2_imshow\n",
        "\n",
        "img = Image.fromarray(img_bin)\n",
        "display(img)"
      ],
      "metadata": {
        "id": "pOcTpxYaL4Em",
        "colab": {
          "base_uri": "https://localhost:8080/",
          "height": 482
        },
        "outputId": "91bab25c-d810-4248-82b1-19b844e9f700"
      },
      "execution_count": 10,
      "outputs": [
        {
          "output_type": "display_data",
          "data": {
            "text/plain": [
              "<PIL.Image.Image image mode=L size=860x465 at 0x7EFC0DE5EA90>"
            ],
            "image/png": "[encoded data removed]"
          },
          "metadata": {}
        }
      ]
    },
    {
      "cell_type": "markdown",
      "source": [
        "#### Step Three: Using morphological operations to identify edges\n",
        "\n",
        "\n",
        "The thresholded image still contains some elements that are not needed, such as text and other noise which are not required. Therefore, let us identify the vertical and horizontal lines that make up checkboxes to sort these out. It can be achieved by performing morphological operations on the image. The idea is to initially extract vertical and horizontal components of the boxes separately by using special filters. Lastly, we will combine the horizontal and vertical lines to form squares and rectangles and identify checkboxes from the image."
      ],
      "metadata": {
        "id": "XnnIKKRROLUM"
      }
    },
    {
      "cell_type": "code",
      "source": [
        "# set min width to detect horizontal lines\n",
        "line_min_width = 15\n",
        "\n",
        "# kernel to detect horizontal lines\n",
        "kernal_h = np.ones((1,line_min_width), np.uint8)\n",
        "\n",
        "# kernel to detect vertical lines\n",
        "kernal_v = np.ones((line_min_width,1), np.uint8)\n",
        "\n",
        "# horizontal kernel on the image\n",
        "img_bin_h = cv2.morphologyEx(img_bin, cv2.MORPH_OPEN, kernal_h)\n",
        "\n",
        "# verical kernel on the image\n",
        "img_bin_v = cv2.morphologyEx(img_bin, cv2.MORPH_OPEN, kernal_v)\n",
        "\n",
        "\n",
        "# combining the image\n",
        "\n",
        "img_bin_final=img_bin_h|img_bin_v"
      ],
      "metadata": {
        "id": "T_yQX06pMC-P"
      },
      "execution_count": 14,
      "outputs": []
    },
    {
      "cell_type": "code",
      "source": [
        "img_bin_h"
      ],
      "metadata": {
        "colab": {
          "base_uri": "https://localhost:8080/"
        },
        "id": "tb07nu31Q10Q",
        "outputId": "a27fa446-a8fd-401b-a64a-ef0aa0007a63"
      },
      "execution_count": 21,
      "outputs": [
        {
          "output_type": "execute_result",
          "data": {
            "text/plain": [
              "array([[0, 0, 0, ..., 0, 0, 0],\n",
              "       [0, 0, 0, ..., 0, 0, 0],\n",
              "       [0, 0, 0, ..., 0, 0, 0],\n",
              "       ...,\n",
              "       [0, 0, 0, ..., 0, 0, 0],\n",
              "       [0, 0, 0, ..., 0, 0, 0],\n",
              "       [0, 0, 0, ..., 0, 0, 0]], dtype=uint8)"
            ]
          },
          "metadata": {},
          "execution_count": 21
        }
      ]
    },
    {
      "cell_type": "code",
      "source": [
        "img_bin_h_1 = Image.fromarray(img_bin_h)\n",
        "display(img_bin_h_1)"
      ],
      "metadata": {
        "colab": {
          "base_uri": "https://localhost:8080/",
          "height": 482
        },
        "id": "dvK6gOxdO80m",
        "outputId": "a60bf8ad-0a79-46b0-fe9a-d61d4cfe1c9b"
      },
      "execution_count": 17,
      "outputs": [
        {
          "output_type": "display_data",
          "data": {
            "text/plain": [
              "<PIL.Image.Image image mode=L size=860x465 at 0x7EFC0DC17E50>"
            ],
            "image/png": "[encoded data removed]"
          },
          "metadata": {}
        }
      ]
    },
    {
      "cell_type": "code",
      "source": [
        "img_bin_v_1 = Image.fromarray(img_bin_v)\n",
        "display(img_bin_v_1)"
      ],
      "metadata": {
        "colab": {
          "base_uri": "https://localhost:8080/",
          "height": 482
        },
        "id": "fsqpzAobPEkx",
        "outputId": "2b72c3bf-e1b7-4b03-edf8-6c764190abb2"
      },
      "execution_count": 18,
      "outputs": [
        {
          "output_type": "display_data",
          "data": {
            "text/plain": [
              "<PIL.Image.Image image mode=L size=860x465 at 0x7EFC0DC7ED50>"
            ],
            "image/png": "[encoded data removed]"
          },
          "metadata": {}
        }
      ]
    },
    {
      "cell_type": "code",
      "source": [
        "img_bin_final_1 = Image.fromarray(img_bin_final)\n",
        "display(img_bin_final_1)"
      ],
      "metadata": {
        "colab": {
          "base_uri": "https://localhost:8080/",
          "height": 482
        },
        "id": "6s4IHezhOOvL",
        "outputId": "7a8627e2-5bec-4539-e8d3-15dc76f35611"
      },
      "execution_count": 16,
      "outputs": [
        {
          "output_type": "display_data",
          "data": {
            "text/plain": [
              "<PIL.Image.Image image mode=L size=860x465 at 0x7EFC0DBF3550>"
            ],
            "image/png": "[encoded data removed]"
          },
          "metadata": {}
        }
      ]
    },
    {
      "cell_type": "markdown",
      "source": [
        "#### Step Four: Contours Filtering\n",
        "\n",
        "In the last step, we simply note down the regions of detected bounding boxes (horizontal and vertical lines) and draw them on the original image array. To do this, we will be using the connectedComponentsWithStats from cv2. This will save all the contours into an array which we will be using to draw them on the original image. Follow the below code snippet:"
      ],
      "metadata": {
        "id": "oTI_B3ElP6Gn"
      }
    },
    {
      "cell_type": "code",
      "source": [
        "_, labels, stats,_ = cv2.connectedComponentsWithStats(~img_bin_final, connectivity=8, ltype=cv2.CV_32S)\n",
        "\n",
        "for x,y,w,h,area in stats[2:]:\n",
        "    cv2.rectangle(image_array,(x,y),(x+w,y+h),(0,255,0),2)\n",
        "\n",
        "contours = Image.fromarray(image_array)\n",
        "display(contours)"
      ],
      "metadata": {
        "colab": {
          "base_uri": "https://localhost:8080/",
          "height": 482
        },
        "id": "BUEteGSgOq2J",
        "outputId": "65d10d5f-dab8-4a00-8471-0ad84b5a3405"
      },
      "execution_count": 19,
      "outputs": [
        {
          "output_type": "display_data",
          "data": {
            "text/plain": [
              "<PIL.Image.Image image mode=RGB size=860x465 at 0x7EFC0DBF38D0>"
            ],
            "image/png": "[encoded data removed]"
          },
          "metadata": {}
        }
      ]
    },
    {
      "cell_type": "code",
      "source": [
        ""
      ],
      "metadata": {
        "id": "p6InK30BYuwX"
      },
      "execution_count": null,
      "outputs": []
    }
  ]
}